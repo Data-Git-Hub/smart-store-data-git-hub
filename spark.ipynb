{
 "cells": [
  {
   "cell_type": "markdown",
   "metadata": {},
   "source": [
    "# Task 1: Set Up Your Environment\n",
    "\n",
    "### 1.1 Install Apache Spark (Windows 11 Example).\n",
    "\n",
    "#### **Perquisites**  \n",
    "- Java JDK (8 or later, but don't exceed 17.0) <br>\n",
    "Spark runs on the JVM, so Java is required.\n",
    "\n",
    "- Python 3.x <br>\n",
    "For PySpark support and Jupyter integration.\n",
    "\n",
    "- Environment Variables (JAVA_HOME, SPARK_HOME, etc.) <br>\n",
    "---\n",
    "\n",
    "#### **Install Java JDK**\n",
    "Apache Spark requires Java (version 8 or later is fine). <br>\n",
    "\n",
    "a. Download JDK <br>\n",
    "Go to: https://adoptium.net\n",
    "\n",
    "Select: Temurin 11 (LTS recommended) <br>\n",
    "\n",
    "Download the Windows x64 MSI installer <br>\n",
    "\n",
    "b. Install and Set JAVA_HOME <br>\n",
    "After installing:\n",
    "\n",
    "#### **Open Environment Variables (Win + S - search for Environment Variables)**\n",
    "\n",
    "Under System variables, click New: <br>\n",
    "\n",
    "Name: JAVA_HOME <br>\n",
    "\n",
    "Value: C:\\Program Files\\Eclipse Adoptium\\jdk-11.x.x (or whatever matches your version) <br>\n",
    "\n",
    "Add %JAVA_HOME%\\bin to the Path variable. <br>\n",
    "\n",
    "---\n",
    "\n",
    "#### **Install Apache Spark**\n",
    "a. Download Spark Binary <br>\n",
    "Go to: https://spark.apache.org/downloads.html\n",
    "\n",
    "Choose a version (e.g., Spark 3.5.0) <br>\n",
    "\n",
    "Choose a package type: (Pre-built for Apache Hadoop 3) <br>\n",
    "\n",
    "Download and unzip the folder (e.g., to C:\\spark) <br>\n",
    "\n",
    "b. Set SPARK_HOME and PATH <br>\n",
    "In Environment Variables:\n",
    "\n",
    "Add a new variable: <br>\n",
    "\n",
    "Name: SPARK_HOME <br>\n",
    "\n",
    "Value: C:\\spark <br>\n",
    "\n",
    "Add %SPARK_HOME%\\bin to the Path <br>\n",
    "\n",
    "---\n",
    "\n",
    "#### **Install winutils.exe (for Hadoop compatibility)**\n",
    "Spark on Windows needs a workaround to run without full Hadoop. <br>\n",
    "\n",
    "a. Download winutils.exe <br>\n",
    "Go to: <br>\n",
    "https://github.com/steveloughran/winutils\n",
    "\n",
    "Find your Hadoop version (e.g., hadoop-3.3.1\\bin\\winutils.exe) <br>\n",
    "\n",
    "Place the winutils.exe file in: C:\\hadoop\\bin <br>\n",
    "\n",
    "b. Set HADOOP_HOME <br>\n",
    "In Environment Variables:\n",
    "\n",
    "Name: HADOOP_HOME <br>\n",
    "\n",
    "Value: C:\\hadoop <br>\n",
    "\n",
    "Also add %HADOOP_HOME%\\bin to your Path <br>\n",
    "\n",
    "---\n",
    "#### **Install PySpark in Your Virtual Environment**\n",
    "In VS Code terminal (with virtual environment activated): <br>\n",
    "    - (In VS Code CTRL + ` to open the Terminal Powershell Environment)\n",
    "\n",
    "```bash\n",
    "pip install pyspark\n",
    "```\n",
    "\n",
    "(Optional: for Jupyter support)\n",
    "\n",
    "```bash\n",
    "pip install notebook findspark\n",
    "```"
   ]
  },
  {
   "cell_type": "markdown",
   "metadata": {},
   "source": [
    "\n",
    "### 1.2 Set Up SQLite JDBC Driver\n",
    "\n",
    "#### **Download SQLite JDBC Driver**\n",
    "Go to the official repository: <br>\n",
    "\n",
    "https://github.com/xerial/sqlite-jdbc\n",
    "\n",
    "\n",
    "#### **Direct Download Link for the Latest .jar:**\n",
    "\n",
    "https://repo1.maven.org/maven2/org/xerial/sqlite-jdbc/\n",
    "Choose the latest version (e.g., sqlite-jdbc-3.49.1.0.jar). <br>\n",
    "\n",
    "#### **Create a directory to store the driver**\n",
    "Create a folder in your project directory to store the JDBC .jar file: <br>\n",
    "\n",
    "```bash\n",
    "mkdir jdbc_drivers\n",
    "```\n",
    "Then move the downloaded .jar into that folder (e.g., jdbc_drivers/sqlite-jdbc-3.49.1.0.jar). <br>\n",
    "\n",
    "In your Jupyter Notebook or script (spark.ipynb), you’ll reference the JDBC driver when creating the Spark session:\n"
   ]
  },
  {
   "cell_type": "code",
   "execution_count": 1,
   "metadata": {},
   "outputs": [
    {
     "name": "stdout",
     "output_type": "stream",
     "text": [
      "Spark Session created successfully!\n"
     ]
    }
   ],
   "source": [
    "from pyspark.sql import SparkSession\n",
    "\n",
    "spark = SparkSession.builder \\\n",
    "    .appName(\"SmartSales\") \\\n",
    "    .config(\"spark.jars\", \"jdbc_drivers/sqlite-jdbc-3.49.1.0.jar\") \\\n",
    "    .getOrCreate()\n",
    "\n",
    "print(\"Spark Session created successfully!\")"
   ]
  },
  {
   "cell_type": "markdown",
   "metadata": {},
   "source": [
    "### 1.3 Verify PySpark Works in Jupyter Notebook"
   ]
  },
  {
   "cell_type": "code",
   "execution_count": 3,
   "metadata": {},
   "outputs": [
    {
     "name": "stdout",
     "output_type": "stream",
     "text": [
      "<pyspark.sql.session.SparkSession object at 0x00000263F4384EC0>\n"
     ]
    }
   ],
   "source": [
    "import findspark\n",
    "findspark.init()\n",
    "\n",
    "from pyspark.sql import SparkSession\n",
    "\n",
    "spark = SparkSession.builder.appName(\"SmartSales\").getOrCreate()\n",
    "print(spark)"
   ]
  },
  {
   "cell_type": "markdown",
   "metadata": {},
   "source": [
    "### 1.4 Verify the SQLite JDBC Driver Works"
   ]
  },
  {
   "cell_type": "code",
   "execution_count": 4,
   "metadata": {},
   "outputs": [
    {
     "name": "stdout",
     "output_type": "stream",
     "text": [
      "+--------------+----------+-----------+----------+--------+-----------+-----------+----------------+------------+\n",
      "|transaction_id| sale_date|customer_id|product_id|store_id|campaign_id|sale_amount|discount_percent|payment_type|\n",
      "+--------------+----------+-----------+----------+--------+-----------+-----------+----------------+------------+\n",
      "|           550|2024-01-06|       1008|       102|     404|          0|       39.1|               0|        VISA|\n",
      "|           551|2024-01-06|       1009|       105|     403|          0|      19.78|               2|        VISA|\n",
      "|           552|2024-01-16|       1004|       107|     404|          0|      335.1|               0|          MC|\n",
      "|           553|2024-01-16|       1006|       102|     406|          0|      195.5|               0|        VISA|\n",
      "|           554|2024-01-25|       1005|       102|     405|          0|      117.3|               0|        VISA|\n",
      "+--------------+----------+-----------+----------+--------+-----------+-----------+----------------+------------+\n",
      "only showing top 5 rows\n",
      "\n"
     ]
    }
   ],
   "source": [
    "df_sales = spark.read.format(\"jdbc\") \\\n",
    "    .option(\"url\", \"jdbc:sqlite:data/dw/smart_sales.db\") \\\n",
    "    .option(\"dbtable\", \"sales\") \\\n",
    "    .option(\"driver\", \"org.sqlite.JDBC\") \\\n",
    "    .load()\n",
    "\n",
    "df_sales.show(5)"
   ]
  }
 ],
 "metadata": {
  "kernelspec": {
   "display_name": ".venv",
   "language": "python",
   "name": "python3"
  },
  "language_info": {
   "codemirror_mode": {
    "name": "ipython",
    "version": 3
   },
   "file_extension": ".py",
   "mimetype": "text/x-python",
   "name": "python",
   "nbconvert_exporter": "python",
   "pygments_lexer": "ipython3",
   "version": "3.13.2"
  }
 },
 "nbformat": 4,
 "nbformat_minor": 2
}
